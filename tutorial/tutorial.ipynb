{
 "cells": [
  {
   "cell_type": "code",
   "execution_count": 1,
   "id": "610e99ab",
   "metadata": {},
   "outputs": [
    {
     "name": "stderr",
     "output_type": "stream",
     "text": [
      "/Users/kylecoleman/miniconda3/envs/miso_test/lib/python3.7/site-packages/tqdm/auto.py:22: TqdmWarning: IProgress not found. Please update jupyter and ipywidgets. See https://ipywidgets.readthedocs.io/en/stable/user_install.html\n",
      "  from .autonotebook import tqdm as notebook_tqdm\n"
     ]
    }
   ],
   "source": [
    "from miso.hist_features import get_features\n",
    "from miso.utils import calculate_affinity\n",
    "from miso.utils import preprocess\n",
    "from miso import Miso\n",
    "from PIL import Image\n",
    "import pandas as pd\n",
    "import numpy as np\n",
    "import scanpy as sc\n",
    "import os\n",
    "from sklearn.decomposition import PCA\n",
    "Image.MAX_IMAGE_PIXELS = None"
   ]
  },
  {
   "cell_type": "code",
   "execution_count": 2,
   "id": "53693b35",
   "metadata": {},
   "outputs": [
    {
     "name": "stdout",
     "output_type": "stream",
     "text": [
      "Requirement already satisfied: gdown in /Users/kylecoleman/miniconda3/envs/miso_test/lib/python3.7/site-packages (4.7.3)\n",
      "Requirement already satisfied: filelock in /Users/kylecoleman/miniconda3/envs/miso_test/lib/python3.7/site-packages (from gdown) (3.12.2)\n",
      "Requirement already satisfied: requests[socks] in /Users/kylecoleman/miniconda3/envs/miso_test/lib/python3.7/site-packages (from gdown) (2.31.0)\n",
      "Requirement already satisfied: six in /Users/kylecoleman/miniconda3/envs/miso_test/lib/python3.7/site-packages (from gdown) (1.16.0)\n",
      "Requirement already satisfied: tqdm in /Users/kylecoleman/miniconda3/envs/miso_test/lib/python3.7/site-packages (from gdown) (4.64.1)\n",
      "Requirement already satisfied: beautifulsoup4 in /Users/kylecoleman/miniconda3/envs/miso_test/lib/python3.7/site-packages (from gdown) (4.12.3)\n",
      "Requirement already satisfied: soupsieve>1.2 in /Users/kylecoleman/miniconda3/envs/miso_test/lib/python3.7/site-packages (from beautifulsoup4->gdown) (2.4.1)\n",
      "Requirement already satisfied: charset-normalizer<4,>=2 in /Users/kylecoleman/miniconda3/envs/miso_test/lib/python3.7/site-packages (from requests[socks]->gdown) (3.3.2)\n",
      "Requirement already satisfied: idna<4,>=2.5 in /Users/kylecoleman/miniconda3/envs/miso_test/lib/python3.7/site-packages (from requests[socks]->gdown) (3.7)\n",
      "Requirement already satisfied: urllib3<3,>=1.21.1 in /Users/kylecoleman/miniconda3/envs/miso_test/lib/python3.7/site-packages (from requests[socks]->gdown) (2.0.7)\n",
      "Requirement already satisfied: certifi>=2017.4.17 in /Users/kylecoleman/miniconda3/envs/miso_test/lib/python3.7/site-packages (from requests[socks]->gdown) (2024.2.2)\n",
      "Requirement already satisfied: PySocks!=1.5.7,>=1.5.6 in /Users/kylecoleman/miniconda3/envs/miso_test/lib/python3.7/site-packages (from requests[socks]->gdown) (1.7.1)\n"
     ]
    }
   ],
   "source": [
    "#install gdown package for downloading tutorial data\n",
    "!python -m pip install gdown"
   ]
  },
  {
   "cell_type": "code",
   "execution_count": 3,
   "id": "99ebaba4",
   "metadata": {},
   "outputs": [
    {
     "name": "stdout",
     "output_type": "stream",
     "text": [
      "Retrieving folder contents\n",
      "Processing file 1253InghpAya2vL9SoFGiwqTT2Y2y_H0Z he-raw.tif\n",
      "Processing file 1dOXTMkqqi_GQgMKUCz1jRONHgXwmGyWv locs.csv\n",
      "Processing file 1zue4elVDvQztzK1VfaSKunRw-0KWoyPt protein.h5ad\n",
      "Processing file 1X_uc2bLUS7wYcAL_ICns6a5U-q7TgCu6 rna.h5ad\n",
      "Retrieving folder contents completed\n",
      "Building directory structure\n",
      "Building directory structure completed\n",
      "Downloading...\n",
      "From (original): https://drive.google.com/uc?id=1253InghpAya2vL9SoFGiwqTT2Y2y_H0Z\n",
      "From (redirected): https://drive.google.com/uc?id=1253InghpAya2vL9SoFGiwqTT2Y2y_H0Z&confirm=t&uuid=15b29fa2-24ec-4bd0-8255-ac15b544623d\n",
      "To: /Users/kylecoleman/data/miso/tutorial/miso_tutorial_data/he-raw.tif\n",
      "100%|████████████████████████████████████████| 938M/938M [00:37<00:00, 25.1MB/s]\n",
      "Downloading...\n",
      "From: https://drive.google.com/uc?id=1dOXTMkqqi_GQgMKUCz1jRONHgXwmGyWv\n",
      "To: /Users/kylecoleman/data/miso/tutorial/miso_tutorial_data/locs.csv\n",
      "100%|████████████████████████████████████████| 158k/158k [00:00<00:00, 3.26MB/s]\n",
      "Downloading...\n",
      "From: https://drive.google.com/uc?id=1zue4elVDvQztzK1VfaSKunRw-0KWoyPt\n",
      "To: /Users/kylecoleman/data/miso/tutorial/miso_tutorial_data/protein.h5ad\n",
      "100%|██████████████████████████████████████| 1.48M/1.48M [00:00<00:00, 11.6MB/s]\n",
      "Downloading...\n",
      "From (original): https://drive.google.com/uc?id=1X_uc2bLUS7wYcAL_ICns6a5U-q7TgCu6\n",
      "From (redirected): https://drive.google.com/uc?id=1X_uc2bLUS7wYcAL_ICns6a5U-q7TgCu6&confirm=t&uuid=df331712-7f83-409a-93f5-9f69ae7a8a53\n",
      "To: /Users/kylecoleman/data/miso/tutorial/miso_tutorial_data/rna.h5ad\n",
      "100%|████████████████████████████████████████| 276M/276M [00:09<00:00, 30.1MB/s]\n",
      "Download completed\n"
     ]
    }
   ],
   "source": [
    "#download the miso_tutorial_data folder \n",
    "!gdown --folder https://drive.google.com/drive/folders/1G4sMqK4kinJ81rTWJkMgWt_mfZEZyaSZ?usp=drive_link\n",
    "#set working directory to miso_tutorial_data\n",
    "os.chdir('miso_tutorial_data')"
   ]
  },
  {
   "cell_type": "code",
   "execution_count": 5,
   "id": "6b45e8bd",
   "metadata": {
    "scrolled": true
   },
   "outputs": [
    {
     "name": "stdout",
     "output_type": "stream",
     "text": [
      "shift 0/256, 0/256\n",
      "Extracting embeddings...\n",
      "Take key teacher in provided checkpoint dict\n",
      "Pretrained weights loaded from /Users/kylecoleman/data/miso/miso/checkpoints/vit256_small_dino.pth\n",
      "# of Patches: 196\n",
      "Take key teacher in provided checkpoint dict\n",
      "Pretrained weights loaded from /Users/kylecoleman/data/miso/miso/checkpoints/vit4k_xs_dino.pth\n",
      "tile 0 / 6\n",
      "209 sec\n",
      "210 sec\n",
      "shift 0/256, 64/256\n",
      "Extracting embeddings...\n",
      "Take key teacher in provided checkpoint dict\n",
      "Pretrained weights loaded from /Users/kylecoleman/data/miso/miso/checkpoints/vit256_small_dino.pth\n",
      "# of Patches: 196\n",
      "Take key teacher in provided checkpoint dict\n",
      "Pretrained weights loaded from /Users/kylecoleman/data/miso/miso/checkpoints/vit4k_xs_dino.pth\n",
      "tile 0 / 6\n",
      "208 sec\n",
      "208 sec\n",
      "shift 0/256, 128/256\n",
      "Extracting embeddings...\n",
      "Take key teacher in provided checkpoint dict\n",
      "Pretrained weights loaded from /Users/kylecoleman/data/miso/miso/checkpoints/vit256_small_dino.pth\n",
      "# of Patches: 196\n",
      "Take key teacher in provided checkpoint dict\n",
      "Pretrained weights loaded from /Users/kylecoleman/data/miso/miso/checkpoints/vit4k_xs_dino.pth\n",
      "tile 0 / 6\n",
      "214 sec\n",
      "215 sec\n",
      "shift 0/256, 192/256\n",
      "Extracting embeddings...\n",
      "Take key teacher in provided checkpoint dict\n",
      "Pretrained weights loaded from /Users/kylecoleman/data/miso/miso/checkpoints/vit256_small_dino.pth\n",
      "# of Patches: 196\n",
      "Take key teacher in provided checkpoint dict\n",
      "Pretrained weights loaded from /Users/kylecoleman/data/miso/miso/checkpoints/vit4k_xs_dino.pth\n",
      "tile 0 / 6\n",
      "207 sec\n",
      "207 sec\n",
      "shift 64/256, 0/256\n",
      "Extracting embeddings...\n",
      "Take key teacher in provided checkpoint dict\n",
      "Pretrained weights loaded from /Users/kylecoleman/data/miso/miso/checkpoints/vit256_small_dino.pth\n",
      "# of Patches: 196\n",
      "Take key teacher in provided checkpoint dict\n",
      "Pretrained weights loaded from /Users/kylecoleman/data/miso/miso/checkpoints/vit4k_xs_dino.pth\n",
      "tile 0 / 6\n",
      "206 sec\n",
      "206 sec\n",
      "shift 64/256, 64/256\n",
      "Extracting embeddings...\n",
      "Take key teacher in provided checkpoint dict\n",
      "Pretrained weights loaded from /Users/kylecoleman/data/miso/miso/checkpoints/vit256_small_dino.pth\n",
      "# of Patches: 196\n",
      "Take key teacher in provided checkpoint dict\n",
      "Pretrained weights loaded from /Users/kylecoleman/data/miso/miso/checkpoints/vit4k_xs_dino.pth\n",
      "tile 0 / 6\n",
      "206 sec\n",
      "206 sec\n",
      "shift 64/256, 128/256\n",
      "Extracting embeddings...\n",
      "Take key teacher in provided checkpoint dict\n",
      "Pretrained weights loaded from /Users/kylecoleman/data/miso/miso/checkpoints/vit256_small_dino.pth\n",
      "# of Patches: 196\n",
      "Take key teacher in provided checkpoint dict\n",
      "Pretrained weights loaded from /Users/kylecoleman/data/miso/miso/checkpoints/vit4k_xs_dino.pth\n",
      "tile 0 / 6\n",
      "206 sec\n",
      "206 sec\n",
      "shift 64/256, 192/256\n",
      "Extracting embeddings...\n",
      "Take key teacher in provided checkpoint dict\n",
      "Pretrained weights loaded from /Users/kylecoleman/data/miso/miso/checkpoints/vit256_small_dino.pth\n",
      "# of Patches: 196\n",
      "Take key teacher in provided checkpoint dict\n",
      "Pretrained weights loaded from /Users/kylecoleman/data/miso/miso/checkpoints/vit4k_xs_dino.pth\n",
      "tile 0 / 6\n",
      "206 sec\n",
      "206 sec\n",
      "shift 128/256, 0/256\n",
      "Extracting embeddings...\n",
      "Take key teacher in provided checkpoint dict\n",
      "Pretrained weights loaded from /Users/kylecoleman/data/miso/miso/checkpoints/vit256_small_dino.pth\n",
      "# of Patches: 196\n",
      "Take key teacher in provided checkpoint dict\n",
      "Pretrained weights loaded from /Users/kylecoleman/data/miso/miso/checkpoints/vit4k_xs_dino.pth\n",
      "tile 0 / 6\n",
      "206 sec\n",
      "206 sec\n",
      "shift 128/256, 64/256\n",
      "Extracting embeddings...\n",
      "Take key teacher in provided checkpoint dict\n",
      "Pretrained weights loaded from /Users/kylecoleman/data/miso/miso/checkpoints/vit256_small_dino.pth\n",
      "# of Patches: 196\n",
      "Take key teacher in provided checkpoint dict\n",
      "Pretrained weights loaded from /Users/kylecoleman/data/miso/miso/checkpoints/vit4k_xs_dino.pth\n",
      "tile 0 / 6\n",
      "206 sec\n",
      "206 sec\n",
      "shift 128/256, 128/256\n",
      "Extracting embeddings...\n",
      "Take key teacher in provided checkpoint dict\n",
      "Pretrained weights loaded from /Users/kylecoleman/data/miso/miso/checkpoints/vit256_small_dino.pth\n",
      "# of Patches: 196\n",
      "Take key teacher in provided checkpoint dict\n",
      "Pretrained weights loaded from /Users/kylecoleman/data/miso/miso/checkpoints/vit4k_xs_dino.pth\n",
      "tile 0 / 6\n",
      "207 sec\n",
      "207 sec\n",
      "shift 128/256, 192/256\n",
      "Extracting embeddings...\n",
      "Take key teacher in provided checkpoint dict\n",
      "Pretrained weights loaded from /Users/kylecoleman/data/miso/miso/checkpoints/vit256_small_dino.pth\n",
      "# of Patches: 196\n",
      "Take key teacher in provided checkpoint dict\n",
      "Pretrained weights loaded from /Users/kylecoleman/data/miso/miso/checkpoints/vit4k_xs_dino.pth\n",
      "tile 0 / 6\n",
      "212 sec\n",
      "212 sec\n",
      "shift 192/256, 0/256\n",
      "Extracting embeddings...\n",
      "Take key teacher in provided checkpoint dict\n",
      "Pretrained weights loaded from /Users/kylecoleman/data/miso/miso/checkpoints/vit256_small_dino.pth\n",
      "# of Patches: 196\n",
      "Take key teacher in provided checkpoint dict\n",
      "Pretrained weights loaded from /Users/kylecoleman/data/miso/miso/checkpoints/vit4k_xs_dino.pth\n",
      "tile 0 / 6\n",
      "220 sec\n",
      "220 sec\n",
      "shift 192/256, 64/256\n",
      "Extracting embeddings...\n",
      "Take key teacher in provided checkpoint dict\n",
      "Pretrained weights loaded from /Users/kylecoleman/data/miso/miso/checkpoints/vit256_small_dino.pth\n",
      "# of Patches: 196\n",
      "Take key teacher in provided checkpoint dict\n",
      "Pretrained weights loaded from /Users/kylecoleman/data/miso/miso/checkpoints/vit4k_xs_dino.pth\n",
      "tile 0 / 6\n",
      "221 sec\n",
      "221 sec\n",
      "shift 192/256, 128/256\n",
      "Extracting embeddings...\n",
      "Take key teacher in provided checkpoint dict\n",
      "Pretrained weights loaded from /Users/kylecoleman/data/miso/miso/checkpoints/vit256_small_dino.pth\n",
      "# of Patches: 196\n",
      "Take key teacher in provided checkpoint dict\n",
      "Pretrained weights loaded from /Users/kylecoleman/data/miso/miso/checkpoints/vit4k_xs_dino.pth\n",
      "tile 0 / 6\n",
      "218 sec\n",
      "218 sec\n",
      "shift 192/256, 192/256\n",
      "Extracting embeddings...\n",
      "Take key teacher in provided checkpoint dict\n",
      "Pretrained weights loaded from /Users/kylecoleman/data/miso/miso/checkpoints/vit256_small_dino.pth\n",
      "# of Patches: 196\n",
      "Take key teacher in provided checkpoint dict\n",
      "Pretrained weights loaded from /Users/kylecoleman/data/miso/miso/checkpoints/vit4k_xs_dino.pth\n",
      "tile 0 / 6\n",
      "217 sec\n",
      "218 sec\n"
     ]
    }
   ],
   "source": [
    "#If an H&E image is available, this code chunk extracts spot-level histology features\n",
    "im = Image.open('he-raw.tif')\n",
    "\n",
    "\n",
    "#microns per pixel in H&E image\n",
    "pixel_size_raw = 65/255.54640512302527\n",
    "\n",
    "#desired microns per pixel\n",
    "pixel_size = 0.5\n",
    "\n",
    "#spot radius in pixels\n",
    "rad=55/(2*pixel_size_raw)\n",
    "\n",
    "#spot spatial locations in pixels\n",
    "locs = pd.read_csv('locs.csv', index_col = 0)\n",
    "locs.columns = [str(i) for i in range(1,6)]\n",
    "image_emb = get_features(im,locs,rad,pixel_size_raw,pixel_size,pretrained=True,device='cpu')\n",
    "np.save('image_emb.npy', image_emb)"
   ]
  },
  {
   "cell_type": "code",
   "execution_count": 6,
   "id": "767c2dbf",
   "metadata": {},
   "outputs": [
    {
     "name": "stderr",
     "output_type": "stream",
     "text": [
      "/Users/kylecoleman/miniconda3/envs/miso_test/lib/python3.7/site-packages/anndata/_core/anndata.py:1830: UserWarning: Variable names are not unique. To make them unique, call `.var_names_make_unique`.\n",
      "  utils.warn_names_duplicates(\"var\")\n",
      "/Users/kylecoleman/miniconda3/envs/miso_test/lib/python3.7/site-packages/anndata/_core/anndata.py:1830: UserWarning: Variable names are not unique. To make them unique, call `.var_names_make_unique`.\n",
      "  utils.warn_names_duplicates(\"var\")\n"
     ]
    }
   ],
   "source": [
    "#Load data and perform necessary preprocessing\n",
    "rna = sc.read('rna.h5ad')\n",
    "rna = preprocess(rna,modality='rna')\n",
    "rna_pcs = PCA(128).fit_transform(rna.X)\n",
    "\n",
    "protein = sc.read('protein.h5ad')\n",
    "protein = preprocess(protein,modality='protein')\n",
    "#protein_pcs = PCA(128).fit_transform(protein.X)\n",
    "\n",
    "image_pcs = PCA(128).fit_transform(image_emb)"
   ]
  },
  {
   "cell_type": "code",
   "execution_count": 7,
   "id": "c91be655",
   "metadata": {},
   "outputs": [],
   "source": [
    "#Calculate adjacency matrices for each modality\n",
    "#Recommend using sparse=True if there are more than 10,000 spots/cells\n",
    "A1 = calculate_affinity(rna.X, sparse = False)\n",
    "A2 = calculate_affinity(protein.X, sparse = False)\n",
    "A3 = calculate_affinity(image_emb, sparse = False)\n",
    "A = [A1,A2,A3]"
   ]
  },
  {
   "cell_type": "code",
   "execution_count": 8,
   "id": "7b0f2442",
   "metadata": {},
   "outputs": [
    {
     "name": "stdout",
     "output_type": "stream",
     "text": [
      "Training network for modality 1\n"
     ]
    },
    {
     "name": "stderr",
     "output_type": "stream",
     "text": [
      "100%|██████████| 1000/1000 [03:33<00:00,  4.67it/s]\n"
     ]
    },
    {
     "name": "stdout",
     "output_type": "stream",
     "text": [
      "Training network for modality 2\n"
     ]
    },
    {
     "name": "stderr",
     "output_type": "stream",
     "text": [
      "100%|██████████| 1000/1000 [03:28<00:00,  4.80it/s]\n"
     ]
    },
    {
     "name": "stdout",
     "output_type": "stream",
     "text": [
      "Training network for modality 3\n"
     ]
    },
    {
     "name": "stderr",
     "output_type": "stream",
     "text": [
      "100%|██████████| 1000/1000 [03:33<00:00,  4.69it/s]\n"
     ]
    }
   ],
   "source": [
    "#if using a subset of modality-specific terms, the \"ind_views\" parameter should be a list with values entries to the indices of the modalities to be included, e.g.,  ind_views=[0,2] if including RNA and image features\n",
    "#if using a subset of interaction terms, the \"combs\" parameter should be a list of tuples with entries to the indices of the modalities for each interaction, e.g. combs = [(0,1),(0,2)] if including the RNA-protein and RNA-image interaction terms\n",
    "model = Miso([rna_pcs,protein.X,image_pcs],A,ind_views='all',combs='all',sparse=False,device='cpu')\n",
    "model.train()\n",
    "np.save('emb.npy', model.emb)"
   ]
  },
  {
   "cell_type": "code",
   "execution_count": null,
   "id": "4b9f53fc",
   "metadata": {},
   "outputs": [],
   "source": [
    "model.cluster(n_clusters=10)\n"
   ]
  }
 ],
 "metadata": {
  "kernelspec": {
   "display_name": "miso_test",
   "language": "python",
   "name": "miso_test"
  },
  "language_info": {
   "codemirror_mode": {
    "name": "ipython",
    "version": 3
   },
   "file_extension": ".py",
   "mimetype": "text/x-python",
   "name": "python",
   "nbconvert_exporter": "python",
   "pygments_lexer": "ipython3",
   "version": "3.7.13"
  }
 },
 "nbformat": 4,
 "nbformat_minor": 5
}
